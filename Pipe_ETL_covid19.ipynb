{
 "cells": [
  {
   "cell_type": "code",
   "execution_count": null,
   "id": "d9c37b1c-e031-4311-971a-722214f3f935",
   "metadata": {},
   "outputs": [],
   "source": [
    "# Importando as bibliotecas necessárias\n",
    "import pandas as pd\n",
    "import requests\n",
    "from io import StringIO\n"
   ]
  },
  {
   "cell_type": "markdown",
   "id": "084bd549-cdbd-4a86-9981-f6d508dc3ce9",
   "metadata": {},
   "source": [
    "<h1>#1 Extração </h1>"
   ]
  },
  {
   "cell_type": "code",
   "execution_count": null,
   "id": "c439528e-e9c7-4734-843b-05f3d05d29e9",
   "metadata": {},
   "outputs": [],
   "source": [
    "def extract():\n",
    "    # Extração\n",
    "    url = \"https://raw.githubusercontent.com/CSSEGISandData/COVID-19/master/csse_covid_19_data/csse_covid_19_time_series/time_series_covid19_confirmed_global.csv\"\n",
    "    req = requests.get(url)\n",
    "    data = StringIO(req.text)\n",
    "    df = pd.read_csv(data)\n",
    "    return df"
   ]
  },
  {
   "cell_type": "markdown",
   "id": "ff447095-e20d-45d4-8262-7bd574b8a579",
   "metadata": {},
   "source": [
    "<h1>#2 Transformação </h1>"
   ]
  },
  {
   "cell_type": "code",
   "execution_count": null,
   "id": "33ef2c70-84b0-4e4d-bdcc-9d631a337688",
   "metadata": {},
   "outputs": [],
   "source": [
    "def transform(df):\n",
    "    # Transformação\n",
    "    df = df.melt(id_vars=['Province/State', 'Country/Region', 'Lat', 'Long'], var_name='Date', value_name='Confirmed Cases')\n",
    "    df['Date'] = pd.to_datetime(df['Date'])\n",
    "    return df"
   ]
  },
  {
   "cell_type": "markdown",
   "id": "ef9645e8-1555-42bf-8011-3f32cb855861",
   "metadata": {},
   "source": [
    "<h1>#3 Carga </h1>"
   ]
  },
  {
   "cell_type": "code",
   "execution_count": null,
   "id": "d168a33c-3013-4218-8d57-275673833dbb",
   "metadata": {},
   "outputs": [],
   "source": [
    "def load(df, filename):\n",
    "    # Carregamento\n",
    "    df.to_csv(filename, index=False)\n",
    "    print(f'Dados salvos em {filename}')"
   ]
  },
  {
   "cell_type": "markdown",
   "id": "a2efefc8-5b47-4f9d-b053-f4dca6701869",
   "metadata": {},
   "source": [
    "<h1>## Execução ##</h1>"
   ]
  },
  {
   "cell_type": "code",
   "execution_count": null,
   "id": "90a6f076-9d6a-429e-bf0c-37345c3c6a5f",
   "metadata": {},
   "outputs": [],
   "source": [
    "def run_etl():\n",
    "    # Executando o processo ETL\n",
    "    df = extract()\n",
    "    df = transform(df)\n",
    "    load(df, 'covid_data.csv')\n",
    "\n",
    "run_etl()"
   ]
  },
  {
   "cell_type": "code",
   "execution_count": null,
   "id": "ce1e3601-c6ae-463b-ac5b-3c1bb39d279b",
   "metadata": {},
   "outputs": [],
   "source": []
  }
 ],
 "metadata": {
  "kernelspec": {
   "display_name": "Python 3 (ipykernel)",
   "language": "python",
   "name": "python3"
  },
  "language_info": {
   "codemirror_mode": {
    "name": "ipython",
    "version": 3
   },
   "file_extension": ".py",
   "mimetype": "text/x-python",
   "name": "python",
   "nbconvert_exporter": "python",
   "pygments_lexer": "ipython3",
   "version": "3.11.5"
  }
 },
 "nbformat": 4,
 "nbformat_minor": 5
}
